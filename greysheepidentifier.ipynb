{
 "cells": [
  {
   "cell_type": "markdown",
   "metadata": {},
   "source": [
    "# GreySheep Identifier and Recommender System"
   ]
  },
  {
   "cell_type": "code",
   "execution_count": null,
   "metadata": {},
   "outputs": [
    {
     "name": "stderr",
     "output_type": "stream",
     "text": [
      "24/11/26 23:33:47 WARN Utils: Your hostname, Buffs-MacBook-Air.local resolves to a loopback address: 127.0.0.1; using 192.168.1.16 instead (on interface en0)\n",
      "24/11/26 23:33:47 WARN Utils: Set SPARK_LOCAL_IP if you need to bind to another address\n",
      "Setting default log level to \"WARN\".\n",
      "To adjust logging level use sc.setLogLevel(newLevel). For SparkR, use setLogLevel(newLevel).\n",
      "24/11/26 23:33:47 WARN NativeCodeLoader: Unable to load native-hadoop library for your platform... using builtin-java classes where applicable\n"
     ]
    },
    {
     "name": "stdout",
     "output_type": "stream",
     "text": [
      "+------+-------+-----+-------+\n",
      "|UserID| Gender|  Age|Married|\n",
      "+------+-------+-----+-------+\n",
      "|  1000|      0|20-25|      0|\n",
      "|  1001|      1|20-25|      0|\n",
      "|  1002|      1|26-30|      0|\n",
      "|  1003|      0|26-30|      1|\n",
      "|  1004|      0|26-30|      1|\n",
      "|  1005|      1|20-25|      0|\n",
      "|  1006|      1|26-30|      0|\n",
      "|  1007|      0|26-30|      0|\n",
      "|  1008|      0|20-25|      0|\n",
      "|  1009|      1|26-30|      0|\n",
      "|  1010|      0|26-30|      0|\n",
      "|  1011|      1|20-25|      0|\n",
      "|  1012|      1|26-30|      0|\n",
      "|  1013|      1|  >30|      0|\n",
      "|  1014|      1|26-30|      0|\n",
      "|  1015|      0|20-25|      0|\n",
      "|  1016|      0|20-25|      0|\n",
      "|  1017|      0|20-25|      0|\n",
      "|  1018|      0|20-25|      0|\n",
      "|  1019|      1|26-30|      0|\n",
      "+------+-------+-----+-------+\n",
      "only showing top 20 rows\n",
      "\n"
     ]
    }
   ],
   "source": [
    "from pyspark.sql import  SparkSession\n",
    "\n",
    "spark = SparkSession.builder.appName(\"GreySheepIdentifier\").getOrCreate()\n",
    "\n",
    "users = spark.read.csv(\"ITM-Rec/users.csv\", header=True, inferSchema=True)\n",
    "\n",
    "users.show()"
   ]
  },
  {
   "cell_type": "code",
   "execution_count": 4,
   "metadata": {},
   "outputs": [
    {
     "name": "stdout",
     "output_type": "stream",
     "text": [
      "+----+---------------------------------------+-----------------------------------------------------------------+------------+\n",
      "|Item|Title                                  |URL                                                              |Descriptions|\n",
      "+----+---------------------------------------+-----------------------------------------------------------------+------------+\n",
      "|1   |E-Commerce                             |https://en.wikipedia.org/wiki/Online_shopping                    |NULL        |\n",
      "|2   |News Website                           |https://en.wikipedia.org/wiki/Online_newspaper                   |NULL        |\n",
      "|3   |Flight ticket purchase system          |https://en.wikipedia.org/wiki/Airline_reservations_system        |NULL        |\n",
      "|4   |Inventory management system            |https://en.wikipedia.org/wiki/Inventory_management_software      |NULL        |\n",
      "|5   |Library (Book Rental and Return) System|https://en.wikipedia.org/wiki/Digital_library                    |NULL        |\n",
      "|6   |Blackboard System                      |https://en.wikipedia.org/wiki/Blackboard_system                  |NULL        |\n",
      "|7   |Course-Enrollment System               |https://en.wikipedia.org/wiki/CourseWork_Course_Management_System|NULL        |\n",
      "|8   |Food/Dishes Order System               |https://en.wikipedia.org/wiki/Online_food_ordering               |NULL        |\n",
      "|9   |Movie Rating and Reviews System        |https://en.wikipedia.org/wiki/IMDb                               |NULL        |\n",
      "|10  |Social Networks                        |https://en.wikipedia.org/wiki/Social_network                     |NULL        |\n",
      "|11  |HR-Employee Management System          |https://en.wikipedia.org/wiki/Human_resource_management_system   |NULL        |\n",
      "|12  |Medical/HealthCare appointment system  |https://en.wikipedia.org/wiki/Hospital_information_system        |NULL        |\n",
      "|13  |Payroll Information System             |https://en.wikipedia.org/wiki/Accounting_information_system      |NULL        |\n",
      "|14  |Hotels/Room Reservation System         |https://en.wikipedia.org/wiki/Online_hotel_reservations          |NULL        |\n",
      "|15  |Question Answering system              |https://en.wikipedia.org/wiki/Question_answering                 |NULL        |\n",
      "|16  |Online Video Streaming System          |https://en.wikipedia.org/wiki/Online_video_platform              |NULL        |\n",
      "|17  |Online Music Streaming System          |https://en.wikipedia.org/wiki/Music_streaming_service            |NULL        |\n",
      "|18  |File Management System                 |https://en.wikipedia.org/wiki/Document_management_system         |NULL        |\n",
      "|19  |Online Resume Builder and View System  |https://en.wikipedia.org/wiki/R%C3%A9sum%C3%A9_parsing           |NULL        |\n",
      "|20  |Online Job Seeking System              |https://en.wikipedia.org/wiki/Job_hunting                        |NULL        |\n",
      "+----+---------------------------------------+-----------------------------------------------------------------+------------+\n",
      "only showing top 20 rows\n",
      "\n"
     ]
    }
   ],
   "source": [
    "items = spark.read.csv(\"ITM-Rec/items.csv\", header=True, inferSchema=True)\n",
    "\n",
    "items.show(truncate=False)"
   ]
  },
  {
   "cell_type": "code",
   "execution_count": 5,
   "metadata": {},
   "outputs": [
    {
     "name": "stdout",
     "output_type": "stream",
     "text": [
      "+------+----+------+---+----+----+-----+--------+--------+\n",
      "|UserID|Item|Rating|App|Data|Ease|Class|Semester|Lockdown|\n",
      "+------+----+------+---+----+----+-----+--------+--------+\n",
      "|1173  |28  |5     |4  |4   |4   |DA   |Fall    |PRE     |\n",
      "|1173  |41  |5     |4  |4   |4   |DA   |Fall    |PRE     |\n",
      "|1173  |61  |4     |4  |4   |4   |DA   |Fall    |PRE     |\n",
      "|1173  |22  |1     |1  |2   |2   |DA   |Fall    |PRE     |\n",
      "|1173  |27  |1     |1  |2   |2   |DA   |Fall    |PRE     |\n",
      "|1173  |31  |1     |2  |2   |2   |DA   |Fall    |PRE     |\n",
      "|1151  |21  |4     |4  |5   |4   |DA   |Fall    |PRE     |\n",
      "|1151  |47  |4     |4  |5   |4   |DA   |Fall    |PRE     |\n",
      "|1151  |69  |5     |4  |5   |4   |DA   |Fall    |PRE     |\n",
      "|1151  |28  |2     |2  |1   |2   |DA   |Fall    |PRE     |\n",
      "|1151  |39  |1     |2  |2   |2   |DA   |Fall    |PRE     |\n",
      "|1151  |45  |1     |2  |1   |2   |DA   |Fall    |PRE     |\n",
      "|1324  |21  |3     |5  |5   |4   |DA   |Fall    |PRE     |\n",
      "|1324  |25  |4     |5  |4   |3   |DA   |Fall    |PRE     |\n",
      "|1324  |46  |3     |5  |4   |3   |DA   |Fall    |PRE     |\n",
      "|1324  |55  |4     |5  |4   |3   |DA   |Fall    |PRE     |\n",
      "|1324  |69  |4     |5  |4   |4   |DA   |Fall    |PRE     |\n",
      "|1324  |31  |1     |2  |2   |1   |DA   |Fall    |PRE     |\n",
      "|1324  |36  |1     |1  |2   |1   |DA   |Fall    |PRE     |\n",
      "|1324  |62  |1     |1  |2   |1   |DA   |Fall    |PRE     |\n",
      "+------+----+------+---+----+----+-----+--------+--------+\n",
      "only showing top 20 rows\n",
      "\n"
     ]
    }
   ],
   "source": [
    "ratings = spark.read.csv(\"ITM-Rec/ratings.csv\", header=True, inferSchema=True)\n",
    "\n",
    "ratings.show(truncate=False)"
   ]
  },
  {
   "cell_type": "code",
   "execution_count": 6,
   "metadata": {},
   "outputs": [],
   "source": [
    "#join dataframes function\n",
    "def join_dataframes(df1, df2, key, columns=None):\n",
    "    joined = df1.join(df2, on=key)\n",
    "    if columns:\n",
    "        columns = [sub_col for col in columns for sub_col in col.split(\",\")]\n",
    "        joined = joined.select(columns)\n",
    "    return joined"
   ]
  },
  {
   "cell_type": "code",
   "execution_count": 7,
   "metadata": {},
   "outputs": [
    {
     "name": "stdout",
     "output_type": "stream",
     "text": [
      "+------+-------+-----+-------+----+------+---+----+----+-----+--------+--------+\n",
      "|UserID| Gender| Age |Married|Item|Rating|App|Data|Ease|Class|Semester|Lockdown|\n",
      "+------+-------+-----+-------+----+------+---+----+----+-----+--------+--------+\n",
      "|1173  |0      |26-30|1      |28  |5     |4  |4   |4   |DA   |Fall    |PRE     |\n",
      "|1173  |0      |26-30|1      |41  |5     |4  |4   |4   |DA   |Fall    |PRE     |\n",
      "|1173  |0      |26-30|1      |61  |4     |4  |4   |4   |DA   |Fall    |PRE     |\n",
      "|1173  |0      |26-30|1      |22  |1     |1  |2   |2   |DA   |Fall    |PRE     |\n",
      "|1173  |0      |26-30|1      |27  |1     |1  |2   |2   |DA   |Fall    |PRE     |\n",
      "|1173  |0      |26-30|1      |31  |1     |2  |2   |2   |DA   |Fall    |PRE     |\n",
      "|1151  |0      |26-30|0      |21  |4     |4  |5   |4   |DA   |Fall    |PRE     |\n",
      "|1151  |0      |26-30|0      |47  |4     |4  |5   |4   |DA   |Fall    |PRE     |\n",
      "|1151  |0      |26-30|0      |69  |5     |4  |5   |4   |DA   |Fall    |PRE     |\n",
      "|1151  |0      |26-30|0      |28  |2     |2  |1   |2   |DA   |Fall    |PRE     |\n",
      "|1151  |0      |26-30|0      |39  |1     |2  |2   |2   |DA   |Fall    |PRE     |\n",
      "|1151  |0      |26-30|0      |45  |1     |2  |1   |2   |DA   |Fall    |PRE     |\n",
      "|1324  |0      |26-30|1      |21  |3     |5  |5   |4   |DA   |Fall    |PRE     |\n",
      "|1324  |0      |26-30|1      |25  |4     |5  |4   |3   |DA   |Fall    |PRE     |\n",
      "|1324  |0      |26-30|1      |46  |3     |5  |4   |3   |DA   |Fall    |PRE     |\n",
      "|1324  |0      |26-30|1      |55  |4     |5  |4   |3   |DA   |Fall    |PRE     |\n",
      "|1324  |0      |26-30|1      |69  |4     |5  |4   |4   |DA   |Fall    |PRE     |\n",
      "|1324  |0      |26-30|1      |31  |1     |2  |2   |1   |DA   |Fall    |PRE     |\n",
      "|1324  |0      |26-30|1      |36  |1     |1  |2   |1   |DA   |Fall    |PRE     |\n",
      "|1324  |0      |26-30|1      |62  |1     |1  |2   |1   |DA   |Fall    |PRE     |\n",
      "+------+-------+-----+-------+----+------+---+----+----+-----+--------+--------+\n",
      "only showing top 20 rows\n",
      "\n"
     ]
    }
   ],
   "source": [
    "\n",
    "#join user and ratings dataframes\n",
    "user_ratings = join_dataframes(users, ratings, key=\"UserID\")\n",
    "\n",
    "user_ratings.show(truncate=False)"
   ]
  },
  {
   "cell_type": "code",
   "execution_count": 8,
   "metadata": {},
   "outputs": [
    {
     "name": "stdout",
     "output_type": "stream",
     "text": [
      "+------+------------------+------------------+------------------------------------+\n",
      "|UserID|avg_rating        |rating_stddev     |rating_list                         |\n",
      "+------+------------------+------------------+------------------------------------+\n",
      "|1011  |2.8333333333333335|2.041241452319315 |[4, 5, 5, 1, 1, 1]                  |\n",
      "|1048  |3.1666666666666665|2.041241452319315 |[5, 5, 5, 2, 1, 1]                  |\n",
      "|1099  |3.1666666666666665|2.041241452319315 |[5, 5, 5, 1, 2, 1]                  |\n",
      "|1125  |3.142857142857143 |2.0354009783964297|[4, 5, 5, 5, 1, 1, 1]               |\n",
      "|1216  |3.0               |2.1908902300206643|[5, 5, 5, 1, 1, 1]                  |\n",
      "|1222  |3.5               |2.070196678027062 |[5, 5, 5, 5, 5, 1, 1, 1]            |\n",
      "|1239  |3.0               |2.088931871468374 |[5, 5, 5, 1, 1, 1, 5, 5, 5, 1, 1, 1]|\n",
      "|1275  |3.0               |2.1908902300206643|[5, 5, 5, 1, 1, 1]                  |\n",
      "|1298  |3.1666666666666665|2.041241452319315 |[5, 5, 5, 1, 2, 1]                  |\n",
      "|1321  |2.7142857142857144|2.138089935299395 |[5, 5, 5, 1, 1, 1, 1]               |\n",
      "+------+------------------+------------------+------------------------------------+\n",
      "only showing top 10 rows\n",
      "\n",
      "+------+------------------+------------------+------------------------------------+\n",
      "|UserID|avg_app           |app_stddev        |app_list                            |\n",
      "+------+------------------+------------------+------------------------------------+\n",
      "|1031  |3.0               |2.1908902300206643|[5, 5, 5, 1, 1, 1]                  |\n",
      "|1036  |3.0               |2.1908902300206643|[5, 5, 5, 1, 1, 1]                  |\n",
      "|1070  |3.0               |2.1908902300206643|[5, 5, 5, 1, 1, 1]                  |\n",
      "|1084  |3.0               |2.088931871468374 |[5, 5, 5, 1, 1, 1, 5, 5, 5, 1, 1, 1]|\n",
      "|1099  |3.0               |2.1908902300206643|[5, 5, 5, 1, 1, 1]                  |\n",
      "|1105  |2.8333333333333335|2.041241452319315 |[5, 4, 5, 1, 1, 1]                  |\n",
      "|1106  |3.1666666666666665|2.041241452319315 |[5, 5, 5, 2, 1, 1]                  |\n",
      "|1120  |3.0               |2.1908902300206643|[5, 5, 5, 1, 1, 1]                  |\n",
      "|1125  |3.2857142857142856|2.138089935299395 |[5, 5, 5, 5, 1, 1, 1]               |\n",
      "|1137  |3.1666666666666665|2.041241452319315 |[5, 5, 5, 1, 2, 1]                  |\n",
      "+------+------------------+------------------+------------------------------------+\n",
      "only showing top 10 rows\n",
      "\n",
      "+------+------------------+------------------+------------------------+\n",
      "|UserID|avg_data          |data_stddev       |data_list               |\n",
      "+------+------------------+------------------+------------------------+\n",
      "|1013  |3.0               |2.1908902300206643|[5, 5, 5, 1, 1, 1]      |\n",
      "|1216  |3.0               |2.1908902300206643|[5, 5, 5, 1, 1, 1]      |\n",
      "|1321  |2.7142857142857144|2.138089935299395 |[5, 5, 5, 1, 1, 1, 1]   |\n",
      "|1368  |3.0               |2.138089935299395 |[5, 5, 5, 5, 1, 1, 1, 1]|\n",
      "|1370  |3.1666666666666665|2.0412414523193148|[5, 5, 5, 1, 1, 2]      |\n",
      "|1483  |2.5               |2.0701966780270626|[5, 5, 5, 1, 1, 1, 1, 1]|\n",
      "+------+------------------+------------------+------------------------+\n",
      "\n",
      "+------+------------------+------------------+------------------------------------------------------------+\n",
      "|UserID|avg_ease          |ease_stddev       |ease_list                                                   |\n",
      "+------+------------------+------------------+------------------------------------------------------------+\n",
      "|1051  |3.0               |1.716790150557904 |[5, 4, 4, 5, 5, 1, 2, 1, 1, 2, 5, 4, 4, 5, 5, 1, 2, 1, 1, 2]|\n",
      "|1109  |3.5454545454545454|2.018099916438052 |[5, 5, 5, 5, 5, 5, 5, 1, 1, 1, 1]                           |\n",
      "|1111  |3.3333333333333335|1.7232808737106582|[5, 5, 5, 3, 2, 3, 5, 4, 5, 1, 1, 1]                        |\n",
      "|1117  |3.3333333333333335|1.8618986725025255|[5, 5, 5, 1, 2, 2]                                          |\n",
      "|1174  |3.6666666666666665|2.0               |[5, 5, 5, 5, 5, 5, 1, 1, 1]                                 |\n",
      "|1274  |2.857142857142857 |1.772810520855837 |[4, 5, 4, 4, 1, 1, 1]                                       |\n",
      "|1315  |3.0               |2.1908902300206643|[5, 5, 5, 1, 1, 1]                                          |\n",
      "|1370  |3.0               |2.1908902300206643|[5, 5, 5, 1, 1, 1]                                          |\n",
      "|1392  |2.8333333333333335|1.7224014243685084|[5, 4, 4, 1, 2, 1]                                          |\n",
      "|1463  |3.0               |1.914854215512676 |[5, 4, 4, 5, 1, 1, 1]                                       |\n",
      "+------+------------------+------------------+------------------------------------------------------------+\n",
      "only showing top 10 rows\n",
      "\n"
     ]
    }
   ],
   "source": [
    "from pyspark.sql.functions import stddev, mean, collect_list\n",
    "\n",
    "def getStats(stats_df, rating_type, deviation_limit):\n",
    "   rating = stats_df.groupBy(\"UserID\")\\\n",
    "          .agg(mean(rating_type).alias(f\"avg_{rating_type.lower()}\"), \n",
    "               stddev(rating_type).alias(f\"{rating_type.lower()}_stddev\"), \n",
    "               collect_list(rating_type).alias(f\"{rating_type.lower()}_list\"),\n",
    "     )\n",
    "   \n",
    "   filter = f\"{rating_type.lower()}_stddev > {deviation_limit}\" \n",
    "   return rating.filter(filter)\n",
    "\n",
    "overall_rating_stats = getStats(ratings, \"Rating\", 2)\n",
    "app_rating_stats = getStats(ratings,\"App\", 2)\n",
    "data_rating_stats = getStats(ratings,\"Data\", 2)\n",
    "ease_rating_stats = getStats(ratings,\"Ease\",1.7)\n",
    "\n",
    "stats = [overall_rating_stats, app_rating_stats, data_rating_stats, ease_rating_stats]\n",
    "\n",
    "for i in range(len(stats)):\n",
    "    stats[i].show(10, truncate=False)\n"
   ]
  },
  {
   "cell_type": "code",
   "execution_count": 9,
   "metadata": {},
   "outputs": [
    {
     "name": "stdout",
     "output_type": "stream",
     "text": [
      "+----+------+-------+-----+-------+------+---+----+----+-----+--------+--------+-------------------------------------------+---------------------------------------------------------------------------------+--------------------------------------------------------------------------------------------------------------------------------------------------------------------------------------------------------------------------------------------------------------------------------------------------------------------------------------------------------------------------------------------------------------------------------------------------------------------------------------------------------------------------------------------------------------------------------------------------------------------------------------------------------------------------------------------------------------------------------------------------------------------------------------------------------------------------------------------------------------------------------------------------------------------------------------------------------------------------------------------------------------------------------------------------------------------------------------------------------------------------------------------------------------------------------------------------------------------------------------------------------------------------------------------------------------------------------------------------------------------------------------------------------------------------------------------------------------------------------------------------------------------------------------------------------------------------------------------------------------+\n",
      "|Item|UserID| Gender| Age |Married|Rating|App|Data|Ease|Class|Semester|Lockdown|Title                                      |URL                                                                              |Descriptions                                                                                                                                                                                                                                                                                                                                                                                                                                                                                                                                                                                                                                                                                                                                                                                                                                                                                                                                                                                                                                                                                                                                                                                                                                                                                                                                                                                                                                                                                                                                                                                                  |\n",
      "+----+------+-------+-----+-------+------+---+----+----+-----+--------+--------+-------------------------------------------+---------------------------------------------------------------------------------+--------------------------------------------------------------------------------------------------------------------------------------------------------------------------------------------------------------------------------------------------------------------------------------------------------------------------------------------------------------------------------------------------------------------------------------------------------------------------------------------------------------------------------------------------------------------------------------------------------------------------------------------------------------------------------------------------------------------------------------------------------------------------------------------------------------------------------------------------------------------------------------------------------------------------------------------------------------------------------------------------------------------------------------------------------------------------------------------------------------------------------------------------------------------------------------------------------------------------------------------------------------------------------------------------------------------------------------------------------------------------------------------------------------------------------------------------------------------------------------------------------------------------------------------------------------------------------------------------------------+\n",
      "|28  |1173  |0      |26-30|1      |5     |4  |4   |4   |DA   |Fall    |PRE     |Nutrition Facts for McDonald's Menu        |https://www.kaggle.com/datasets/mcdonalds/nutrition-facts                        |Ray Kroc wanted to build a restaurant system that would be famous for providing food of consistently high quality and uniform methods of preparation. He wanted to serve burgers, buns, fries and beverages that tasted just the same in Alaska as they did in Alabama. To achieve this, he chose a unique path: persuading both franchisees and suppliers to buy into his vision, working not for McDonald??s but for themselves, together with McDonald??s. Many of McDonald??s most famous menu items ?C like the Big Mac, Filet-O-Fish, and Egg McMuffin ?C were created by                                                                                                                                                                                                                                                                                                                                                                                                                                                                                                                                                                                                                                                                                                                                                                                                                                                                                                                                                                                                                               |\n",
      "|41  |1173  |0      |26-30|1      |5     |4  |4   |4   |DA   |Fall    |PRE     |Amazon Fine Food Reviews                   |https://www.kaggle.com/datasets/snap/amazon-fine-food-reviews                    |This dataset consists of reviews of fine foods from amazon. The data span a period of more than 10 years, including all ~500,000 reviews up to October 2012. Reviews include product and user information, ratings, and a plain text review. It also includes reviews from all other Amazon categories                                                                                                                                                                                                                                                                                                                                                                                                                                                                                                                                                                                                                                                                                                                                                                                                                                                                                                                                                                                                                                                                                                                                                                                                                                                                                                        |\n",
      "|61  |1173  |0      |26-30|1      |4     |4  |4   |4   |DA   |Fall    |PRE     |Video Game Sales                           |https://www.kaggle.com/datasets/gregorut/videogamesales                          |This dataset contains a list of video games with sales greater than 100,000 copies. It was generated by a scrape of vgchartz.com.Fields include Rank - Ranking of overall sales,Name - The games name,Platform - Platform of the games release (i.e. PC,PS4, etc.),Year - Year of the game's release,Genre - Genre of the game,Publisher - Publisher of the game,NA_Sales - Sales in North America (in millions),EU_Sales - Sales in Europe (in millions),JP_Sales - Sales in Japan (in millions),Other_Sales - Sales in the rest of the world (in millions),Global_Sales - Total worldwide sales.                                                                                                                                                                                                                                                                                                                                                                                                                                                                                                                                                                                                                                                                                                                                                                                                                                                                                                                                                                                                            |\n",
      "|22  |1173  |0      |26-30|1      |1     |1  |2   |2   |DA   |Fall    |PRE     |Congress Trump Score                       |https://www.kaggle.com/datasets/fivethirtyeight/trump-score                      |\"This is FiveThirtyEight's Congress Trump Score. As the website itself puts it, it's \"\"an updating tally of how often every member of the House and the Senate votes with or against the president\"\".There are two tables: cts and votes. The first one has summary information for every congressperson: their name                                                                                                                                                                                                                                                                                                                                                                                                                                                                                                                                                                                                                                                                                                                                                                                                                                                                                                                                                                                                                                                                                                                                                                                                                                                                                          |\n",
      "|27  |1173  |0      |26-30|1      |1     |1  |2   |2   |DA   |Fall    |PRE     |French presidential election               |https://www.kaggle.com/datasets/jeanmidev/french-presidential-election           |This dataset is born from a test with the twitter streaming api to filter and collect data from this flow on a specific topic, in this case the French election.                                                                                                                                                                                                                                                                                                                                                                                                                                                                                                                                                                                                                                                                                                                                                                                                                                                                                                                                                                                                                                                                                                                                                                                                                                                                                                                                                                                                                                              |\n",
      "|31  |1173  |0      |26-30|1      |1     |2  |2   |2   |DA   |Fall    |PRE     |European Soccer Database                   |https://www.kaggle.com/datasets/hugomathien/soccer                               |The ultimate Soccer database for data analysis and machine learning.What you get:+25,000 matches,+10,000 players,11 European Countries with their lead championship,Seasons 2008 to 2016,Players and Teams' attributes* sourced from EA Sports' FIFA video game series, including the weekly updates,Team line up with squad formation (X, Y coordinates),Betting odds from up to 10 providers.Detailed match events (goal types, possession, corner, cross, fouls, cards etc??) for +10,000 matches,*16th Oct 2016: New table containing teams' attributes from FIFA !                                                                                                                                                                                                                                                                                                                                                                                                                                                                                                                                                                                                                                                                                                                                                                                                                                                                                                                                                                                                                                       |\n",
      "|21  |1151  |0      |26-30|0      |4     |4  |5   |4   |DA   |Fall    |PRE     |Credit Card Fraud Detection                |https://www.kaggle.com/datasets/mlg-ulb/creditcardfraud                          |It is important that credit card companies are able to recognize fraudulent credit card transactions so that customers are not charged for items that they did not purchase.The datasets contains transactions made by credit cards in September 2013 by european cardholders.This dataset presents transactions that occurred in two days, where we have 492 frauds out of 284,807 transactions. The dataset is highly unbalanced, the positive class (frauds) account for 0.172% of all transactions.It contains only numerical input variables which are the result of a PCA transformation. Unfortunately, due to confidentiality issues, we cannot provide the original features and more background information about the data. Features V1, V2, ?? V28 are the principal components obtained with PCA, the only features which have not been transformed with PCA are 'Time' and 'Amount'. Feature 'Time' contains the                                                                                                                                                                                                                                                                                                                                                                                                                                                                                                                                                                                                                                                                                 |\n",
      "|47  |1151  |0      |26-30|0      |4     |4  |5   |4   |DA   |Fall    |PRE     |Human Activity Recognition with Smartphones|https://www.kaggle.com/datasets/uciml/human-activity-recognition-with-smartphones|The Human Activity Recognition database was built from the recordings of 30 study participants performing activities of daily living (ADL) while carrying a waist-mounted smartphone with embedded inertial sensors. The objective is to classify activities into one of the six activities performed.The experiments have been carried out with a group of 30 volunteers within an age bracket of 19-48 years. Each person performed six activities (WALKING, WALKINGUPSTAIRS, WALKINGDOWNSTAIRS, SITTING, STANDING, LAYING) wearing a smartphone (Samsung Galaxy S II) on the waist. Using its embedded accelerometer and gyroscope, we captured 3-axial linear acceleration and 3-axial angular velocity at a constant rate of 50Hz. The experiments have been video-recorded to label the data manually. The obtained dataset has been randomly partitioned into two sets, where 70% of the volunteers was selected for generating the training data and 30% the test data.The sensor signals (accelerometer and gyroscope) were pre-processed by applying noise filters and then sampled in fixed-width sliding windows of 2.56 sec and 50% overlap (128 readings/window). The sensor acceleration signal, which has gravitational and body motion components, was separated using a Butterworth low-pass filter into body acceleration and gravity. The gravitational force is assumed to have only low frequency components, therefore a filter with 0.3 Hz cutoff frequency was used. From each window, a vector of features was obtained by calculating variables from the time and frequency domain.|\n",
      "|69  |1151  |0      |26-30|0      |5     |4  |5   |4   |DA   |Fall    |PRE     |Airlines Delay                             |https://www.kaggle.com/datasets/giovamata/airlinedelaycauses                     |The U.S. Department of Transportation's (DOT) Bureau of Transportation Statistics (BTS) tracks the on-time performance of domestic flights operated by large air carriers. Summary information on the number of on-time, delayed, canceled and diverted flights appears in DOT's monthly Air Travel Consumer Report, published about 30 days after the month's end, as well as in summary tables posted on this website. BTS began collecting details on the causes of flight delays in June 2003. Summary statistics and raw data are made available to the public at the time the Air Travel Consumer Report is released.                                                                                                                                                                                                                                                                                                                                                                                                                                                                                                                                                                                                                                                                                                                                                                                                                                                                                                                                                                                   |\n",
      "|28  |1151  |0      |26-30|0      |2     |2  |1   |2   |DA   |Fall    |PRE     |Nutrition Facts for McDonald's Menu        |https://www.kaggle.com/datasets/mcdonalds/nutrition-facts                        |Ray Kroc wanted to build a restaurant system that would be famous for providing food of consistently high quality and uniform methods of preparation. He wanted to serve burgers, buns, fries and beverages that tasted just the same in Alaska as they did in Alabama. To achieve this, he chose a unique path: persuading both franchisees and suppliers to buy into his vision, working not for McDonald??s but for themselves, together with McDonald??s. Many of McDonald??s most famous menu items ?C like the Big Mac, Filet-O-Fish, and Egg McMuffin ?C were created by                                                                                                                                                                                                                                                                                                                                                                                                                                                                                                                                                                                                                                                                                                                                                                                                                                                                                                                                                                                                                               |\n",
      "|39  |1151  |0      |26-30|0      |1     |2  |2   |2   |DA   |Fall    |PRE     |Pima Indians Diabetes Database             |https://www.kaggle.com/datasets/uciml/pima-indians-diabetes-database             |This dataset is originally from the National Institute of Diabetes and Digestive and Kidney Diseases. The objective of the dataset is to diagnostically predict whether or not a patient has diabetes, based on certain diagnostic measurements included in the dataset. Several constraints were placed on the selection of these instances from a larger database. In particular, all patients here are females at least 21 years old of Pima Indian heritage.The datasets consists of several medical predictor variables and one target variable, Outcome. Predictor variables includes the number of pregnancies the patient has had, their BMI, insulin level, age, and so on.                                                                                                                                                                                                                                                                                                                                                                                                                                                                                                                                                                                                                                                                                                                                                                                                                                                                                                                          |\n",
      "|45  |1151  |0      |26-30|0      |1     |2  |1   |2   |DA   |Fall    |PRE     |Lending Club Loan Data                     |https://www.kaggle.com/datasets/wordsforthewise/lending-club                     |\"LendingClub is a US peer-to-peer lending company, headquartered in San Francisco, California. It was the first peer-to-peer lender to register its offerings as securities with the Securities and Exchange Commission (SEC), and to offer loan trading on a secondary market. Lending Club is the world's largest peer-to-peer lending platform.The company claims that $ 15.98 billion in loans had been originated through its platform up to December 31, 2015.Lending Club enables borrowers to create unsecured personal loans between $$1,000 and $ 40,000. The standard loan period is three years. Investors can search and browse the loan listings on Lending Club website and select loans that they want to invest in based on the information supplied about the borrower, amount of loan, loan grade, and loan purpose. Investors make money from interest. Lending Club makes money by charging borrowers an origination fee and investors a service fee.These files contain complete loan data for all loans issued through the 2007-2015, including the current loan status (Current, Late, Fully Paid, etc.) and latest payment information. The file containing loan data through the \"\"present\"\" contains complete loan data for all loans issued through the previous completed calendar quarter. Additional features include credit scores                                                                                                                                                                                                                                            |\n",
      "|21  |1324  |0      |26-30|1      |3     |5  |5   |4   |DA   |Fall    |PRE     |Credit Card Fraud Detection                |https://www.kaggle.com/datasets/mlg-ulb/creditcardfraud                          |It is important that credit card companies are able to recognize fraudulent credit card transactions so that customers are not charged for items that they did not purchase.The datasets contains transactions made by credit cards in September 2013 by european cardholders.This dataset presents transactions that occurred in two days, where we have 492 frauds out of 284,807 transactions. The dataset is highly unbalanced, the positive class (frauds) account for 0.172% of all transactions.It contains only numerical input variables which are the result of a PCA transformation. Unfortunately, due to confidentiality issues, we cannot provide the original features and more background information about the data. Features V1, V2, ?? V28 are the principal components obtained with PCA, the only features which have not been transformed with PCA are 'Time' and 'Amount'. Feature 'Time' contains the                                                                                                                                                                                                                                                                                                                                                                                                                                                                                                                                                                                                                                                                                 |\n",
      "|25  |1324  |0      |26-30|1      |4     |5  |4   |3   |DA   |Fall    |PRE     |My Uber Drives                             |https://www.kaggle.com/datasets/zusmani/uberdrives                               |Here are the details of my Uber Drives of 2016. I am sharing this dataset for data science community to learn from the behavior of an ordinary Uber customer. Dataset: The dataset contains Start Date, End Date, Start Location, End Location, Miles Driven and Purpose of drive (Business, Personal, Meals, Errands, Meetings, Customer Support etc.) Inspiration. Some ideas worth exploring:What is the average length of the trip?Average number of rides per week or per month?Total tax savings based on traveled business miles?Percentage of business miles vs personal vs. Meals How much money can be saved by a typical customer using Uber, Careem, or Lyft versus regular cab service?                                                                                                                                                                                                                                                                                                                                                                                                                                                                                                                                                                                                                                                                                                                                                                                                                                                                                                          |\n",
      "|46  |1324  |0      |26-30|1      |3     |5  |4   |3   |DA   |Fall    |PRE     |World Development Indicators               |https://www.kaggle.com/datasets/theworldbank/world-development-indicators        |The World Development Indicators from the World Bank contain over a thousand annual indicators of economic development from hundreds of countries around the world.Here's a list of the available indicators along with a list of the available countries.For example, this data includes the life expectancy at birth from many countries around the world:                                                                                                                                                                                                                                                                                                                                                                                                                                                                                                                                                                                                                                                                                                                                                                                                                                                                                                                                                                                                                                                                                                                                                                                                                                                  |\n",
      "|55  |1324  |0      |26-30|1      |4     |5  |4   |3   |DA   |Fall    |PRE     |Open Flood Risk by Postcode                |https://www.kaggle.com/datasets/getthedata/open-flood-risk-by-postcode           |This dataset takes the Environment Agency's Risk of Flooding from Rivers and Sea, and places English postcodes in their appropriate flood risk area, allowing you to look up flood risk from postcode.Open Flood Risk by Postcode takes postcodes as point locations (from Open Postcode Geo) and places the postcode in the appropriate flood risk area. It is important to note that actual properties within a specific postcode may have a slightly different point location and therefore be in a different flood risk area. Generally speaking the point location of a postcode is the point location of the central property in that postcode.                                                                                                                                                                                                                                                                                                                                                                                                                                                                                                                                                                                                                                                                                                                                                                                                                                                                                                                                                         |\n",
      "|69  |1324  |0      |26-30|1      |4     |5  |4   |4   |DA   |Fall    |PRE     |Airlines Delay                             |https://www.kaggle.com/datasets/giovamata/airlinedelaycauses                     |The U.S. Department of Transportation's (DOT) Bureau of Transportation Statistics (BTS) tracks the on-time performance of domestic flights operated by large air carriers. Summary information on the number of on-time, delayed, canceled and diverted flights appears in DOT's monthly Air Travel Consumer Report, published about 30 days after the month's end, as well as in summary tables posted on this website. BTS began collecting details on the causes of flight delays in June 2003. Summary statistics and raw data are made available to the public at the time the Air Travel Consumer Report is released.                                                                                                                                                                                                                                                                                                                                                                                                                                                                                                                                                                                                                                                                                                                                                                                                                                                                                                                                                                                   |\n",
      "|31  |1324  |0      |26-30|1      |1     |2  |2   |1   |DA   |Fall    |PRE     |European Soccer Database                   |https://www.kaggle.com/datasets/hugomathien/soccer                               |The ultimate Soccer database for data analysis and machine learning.What you get:+25,000 matches,+10,000 players,11 European Countries with their lead championship,Seasons 2008 to 2016,Players and Teams' attributes* sourced from EA Sports' FIFA video game series, including the weekly updates,Team line up with squad formation (X, Y coordinates),Betting odds from up to 10 providers.Detailed match events (goal types, possession, corner, cross, fouls, cards etc??) for +10,000 matches,*16th Oct 2016: New table containing teams' attributes from FIFA !                                                                                                                                                                                                                                                                                                                                                                                                                                                                                                                                                                                                                                                                                                                                                                                                                                                                                                                                                                                                                                       |\n",
      "|36  |1324  |0      |26-30|1      |1     |1  |2   |1   |DA   |Fall    |PRE     |Speed Dating Experiment                    |https://www.kaggle.com/datasets/annavictoria/speed-dating-experiment             |\"What influences love at first sight? (Or, at least, love in the first four minutes?) This dataset was compiled by Columbia Business School professors Ray Fisman and Sheena Iyengar for their paper Gender Differences in Mate Selection: Evidence From a Speed Dating Experiment.Data was gathered from participants in experimental speed dating events from 2002-2004. During the events, the attendees would have a four minute \"\"first date\"\" with every other participant of the opposite sex. At the end of their four minutes                                                                                                                                                                                                                                                                                                                                                                                                                                                                                                                                                                                                                                                                                                                                                                                                                                                                                                                                                                                                                                                                        |\n",
      "|62  |1324  |0      |26-30|1      |1     |1  |2   |1   |DA   |Fall    |PRE     |Football Events                            |https://www.kaggle.com/datasets/secareanualin/football-events                    |Most publicly available football (soccer) statistics are limited to aggregated data such as Goals, Shots, Fouls, Cards. When assessing performance or building predictive models, this simple aggregation, without any context, can be misleading. For example, a team that produced 10 shots on target from long range has a lower chance of scoring than a club that produced the same amount of shots from inside the box. However, metrics derived from this simple count of shots will similarly asses the two teams. A football game generates much more events and it is very important and interesting to take into account the context in which those events were generated. This dataset should keep sports analytics enthusiasts awake for long hours as the number of questions that can be asked is huge.This dataset is a result of a very tiresome effort of webscraping and integrating different data sources. The central element is the text commentary. All the events were derived by reverse engineering the text commentary, using regex. Using this, I was able to derive 11 types of events, as well as the main player and secondary player involved in those events and many other statistics. In case I've missed extracting some useful information, you are gladly invited to do so and share your findings. The dataset provides a granular view of 9,074 games, totaling 941,009 events from the biggest 5 European football (soccer) leagues: England, Spain, Germany, Italy, France from 2011/2012 season to 2016/2017 season as of 25.01.2017.                             |\n",
      "+----+------+-------+-----+-------+------+---+----+----+-----+--------+--------+-------------------------------------------+---------------------------------------------------------------------------------+--------------------------------------------------------------------------------------------------------------------------------------------------------------------------------------------------------------------------------------------------------------------------------------------------------------------------------------------------------------------------------------------------------------------------------------------------------------------------------------------------------------------------------------------------------------------------------------------------------------------------------------------------------------------------------------------------------------------------------------------------------------------------------------------------------------------------------------------------------------------------------------------------------------------------------------------------------------------------------------------------------------------------------------------------------------------------------------------------------------------------------------------------------------------------------------------------------------------------------------------------------------------------------------------------------------------------------------------------------------------------------------------------------------------------------------------------------------------------------------------------------------------------------------------------------------------------------------------------------------+\n",
      "only showing top 20 rows\n",
      "\n"
     ]
    }
   ],
   "source": [
    "user_item_ratings = join_dataframes(user_ratings, items, key=\"Item\")\n",
    "\n",
    "user_item_ratings.show(truncate=False)"
   ]
  },
  {
   "cell_type": "code",
   "execution_count": 10,
   "metadata": {},
   "outputs": [
    {
     "name": "stdout",
     "output_type": "stream",
     "text": [
      "+----+------+-------+-----+-------+------+---+----+----+-----+--------+--------+-----------+---------------------------------------------+------------+\n",
      "|Item|UserID| Gender| Age |Married|Rating|App|Data|Ease|Class|Semester|Lockdown|Title      |URL                                          |Descriptions|\n",
      "+----+------+-------+-----+-------+------+---+----+----+-----+--------+--------+-----------+---------------------------------------------+------------+\n",
      "|1   |1005  |1      |20-25|0      |4     |4  |4   |3   |DB   |Fall    |POS     |E-Commerce |https://en.wikipedia.org/wiki/Online_shopping|NULL        |\n",
      "|1   |1008  |0      |20-25|0      |5     |4  |3   |3   |DB   |Fall    |POS     |E-Commerce |https://en.wikipedia.org/wiki/Online_shopping|NULL        |\n",
      "|1   |1009  |1      |26-30|0      |3     |2  |3   |1   |DB   |Fall    |POS     |E-Commerce |https://en.wikipedia.org/wiki/Online_shopping|NULL        |\n",
      "|1   |1015  |0      |20-25|0      |4     |4  |3   |3   |DB   |Fall    |POS     |E-Commerce |https://en.wikipedia.org/wiki/Online_shopping|NULL        |\n",
      "|1   |1019  |1      |26-30|0      |4     |4  |4   |4   |DB   |Fall    |POS     |E-Commerce |https://en.wikipedia.org/wiki/Online_shopping|NULL        |\n",
      "|1   |1020  |1      |20-25|0      |2     |3  |3   |3   |DB   |Fall    |POS     |E-Commerce |https://en.wikipedia.org/wiki/Online_shopping|NULL        |\n",
      "|1   |1022  |1      |26-30|1      |4     |4  |4   |3   |DB   |Fall    |PRE     |E-Commerce |https://en.wikipedia.org/wiki/Online_shopping|NULL        |\n",
      "|1   |1024  |1      |20-25|0      |5     |5  |5   |4   |DB   |Fall    |PRE     |E-Commerce |https://en.wikipedia.org/wiki/Online_shopping|NULL        |\n",
      "|1   |1028  |1      |20-25|0      |5     |5  |4   |4   |DB   |Fall    |PRE     |E-Commerce |https://en.wikipedia.org/wiki/Online_shopping|NULL        |\n",
      "|1   |1039  |0      |20-25|0      |3     |2  |3   |3   |DB   |Spring  |PRE     |E-Commerce |https://en.wikipedia.org/wiki/Online_shopping|NULL        |\n",
      "+----+------+-------+-----+-------+------+---+----+----+-----+--------+--------+-----------+---------------------------------------------+------------+\n",
      "only showing top 10 rows\n",
      "\n",
      "+----+------+-------+-----+-------+------+---+----+----+-----+--------+--------+-----------+---------------------------------------------+------------+\n",
      "|Item|UserID| Gender| Age |Married|Rating|App|Data|Ease|Class|Semester|Lockdown|Title      |URL                                          |Descriptions|\n",
      "+----+------+-------+-----+-------+------+---+----+----+-----+--------+--------+-----------+---------------------------------------------+------------+\n",
      "|1   |1146  |1      |20-25|0      |4     |5  |4   |4   |DB   |Fall    |PRE     |E-Commerce |https://en.wikipedia.org/wiki/Online_shopping|NULL        |\n",
      "|1   |1148  |1      |20-25|0      |2     |2  |2   |3   |DB   |Spring  |PRE     |E-Commerce |https://en.wikipedia.org/wiki/Online_shopping|NULL        |\n",
      "|1   |1193  |1      |26-30|0      |4     |4  |4   |4   |DB   |Fall    |PRE     |E-Commerce |https://en.wikipedia.org/wiki/Online_shopping|NULL        |\n",
      "|1   |1278  |0      |26-30|0      |3     |3  |4   |3   |DB   |Spring  |PRE     |E-Commerce |https://en.wikipedia.org/wiki/Online_shopping|NULL        |\n",
      "|1   |1324  |0      |26-30|1      |5     |4  |5   |4   |DB   |Fall    |PRE     |E-Commerce |https://en.wikipedia.org/wiki/Online_shopping|NULL        |\n",
      "+----+------+-------+-----+-------+------+---+----+----+-----+--------+--------+-----------+---------------------------------------------+------------+\n",
      "only showing top 5 rows\n",
      "\n",
      "Training: 4732, Test: 498\n"
     ]
    }
   ],
   "source": [
    "\n",
    "# Split the ratings DataFrame into 90% training and 10% test\n",
    "set = user_item_ratings.randomSplit([0.9, 0.1], seed=12345)\n",
    "\n",
    "training = set[0].cache()\n",
    "\n",
    "\n",
    "training.show(10, truncate=False)\n",
    "\n",
    "test = set[1].cache()\n",
    "\n",
    "test.show(5, truncate=False)\n",
    "\n",
    "print(f\"Training: {training.count()}, Test: {test.count()}\")"
   ]
  },
  {
   "cell_type": "code",
   "execution_count": 92,
   "metadata": {},
   "outputs": [
    {
     "name": "stdout",
     "output_type": "stream",
     "text": [
      "<class 'pyspark.ml.recommendation.ALSModel'>\n"
     ]
    }
   ],
   "source": [
    "from pyspark.ml.recommendation import ALS\n",
    "\n",
    "# Define ALS model parameters\n",
    "rank = 40\n",
    "num_iterations = 15\n",
    "regularization = 0.09\n",
    "\n",
    "# Initialize ALS\n",
    "als = ALS(\n",
    "    rank=rank,\n",
    "    maxIter=num_iterations,\n",
    "    regParam=regularization,\n",
    "    userCol=\"UserID\",\n",
    "    itemCol=\"Item\",\n",
    "    ratingCol=\"Rating\",\n",
    "    coldStartStrategy=\"drop\" \n",
    ")\n",
    "\n",
    "model = als.fit(training)\n",
    "\n",
    "# Model type\n",
    "print(type(model))"
   ]
  },
  {
   "cell_type": "code",
   "execution_count": 93,
   "metadata": {},
   "outputs": [
    {
     "name": "stdout",
     "output_type": "stream",
     "text": [
      "+------+----+------+-------------------------------------------+---------------------------------------------------------------------------------+\n",
      "|UserID|Item|Rating|Title                                      |URL                                                                              |\n",
      "+------+----+------+-------------------------------------------+---------------------------------------------------------------------------------+\n",
      "|1173  |28  |5     |Nutrition Facts for McDonald's Menu        |https://www.kaggle.com/datasets/mcdonalds/nutrition-facts                        |\n",
      "|1173  |41  |5     |Amazon Fine Food Reviews                   |https://www.kaggle.com/datasets/snap/amazon-fine-food-reviews                    |\n",
      "|1173  |61  |4     |Video Game Sales                           |https://www.kaggle.com/datasets/gregorut/videogamesales                          |\n",
      "|1173  |22  |1     |Congress Trump Score                       |https://www.kaggle.com/datasets/fivethirtyeight/trump-score                      |\n",
      "|1173  |27  |1     |French presidential election               |https://www.kaggle.com/datasets/jeanmidev/french-presidential-election           |\n",
      "|1173  |31  |1     |European Soccer Database                   |https://www.kaggle.com/datasets/hugomathien/soccer                               |\n",
      "|1151  |21  |4     |Credit Card Fraud Detection                |https://www.kaggle.com/datasets/mlg-ulb/creditcardfraud                          |\n",
      "|1151  |47  |4     |Human Activity Recognition with Smartphones|https://www.kaggle.com/datasets/uciml/human-activity-recognition-with-smartphones|\n",
      "|1151  |69  |5     |Airlines Delay                             |https://www.kaggle.com/datasets/giovamata/airlinedelaycauses                     |\n",
      "|1151  |28  |2     |Nutrition Facts for McDonald's Menu        |https://www.kaggle.com/datasets/mcdonalds/nutrition-facts                        |\n",
      "|1151  |39  |1     |Pima Indians Diabetes Database             |https://www.kaggle.com/datasets/uciml/pima-indians-diabetes-database             |\n",
      "|1151  |45  |1     |Lending Club Loan Data                     |https://www.kaggle.com/datasets/wordsforthewise/lending-club                     |\n",
      "|1324  |21  |3     |Credit Card Fraud Detection                |https://www.kaggle.com/datasets/mlg-ulb/creditcardfraud                          |\n",
      "|1324  |25  |4     |My Uber Drives                             |https://www.kaggle.com/datasets/zusmani/uberdrives                               |\n",
      "|1324  |46  |3     |World Development Indicators               |https://www.kaggle.com/datasets/theworldbank/world-development-indicators        |\n",
      "|1324  |55  |4     |Open Flood Risk by Postcode                |https://www.kaggle.com/datasets/getthedata/open-flood-risk-by-postcode           |\n",
      "|1324  |69  |4     |Airlines Delay                             |https://www.kaggle.com/datasets/giovamata/airlinedelaycauses                     |\n",
      "|1324  |31  |1     |European Soccer Database                   |https://www.kaggle.com/datasets/hugomathien/soccer                               |\n",
      "|1324  |36  |1     |Speed Dating Experiment                    |https://www.kaggle.com/datasets/annavictoria/speed-dating-experiment             |\n",
      "|1324  |62  |1     |Football Events                            |https://www.kaggle.com/datasets/secareanualin/football-events                    |\n",
      "+------+----+------+-------------------------------------------+---------------------------------------------------------------------------------+\n",
      "only showing top 20 rows\n",
      "\n"
     ]
    }
   ],
   "source": [
    "\n",
    "user_item_ratings = user_item_ratings.dropna()  # Remove rows with any NaN values\n",
    "user_item_ratings = user_item_ratings.select(\"UserID\",\"Item\", \"Rating\", \"Title\", \"URL\") \n",
    "user_item_ratings.show(truncate=False)"
   ]
  },
  {
   "cell_type": "code",
   "execution_count": 94,
   "metadata": {},
   "outputs": [
    {
     "name": "stdout",
     "output_type": "stream",
     "text": [
      "+------+----+------+-----------------------------------------+---------------------------------------------------------------------------------+----------+\n",
      "|UserID|Item|Rating|Title                                    |URL                                                                              |prediction|\n",
      "+------+----+------+-----------------------------------------+---------------------------------------------------------------------------------+----------+\n",
      "|1088  |24  |5     |The Bachelor contestants                 |https://www.kaggle.com/datasets/brianbgonz/the-bachelor-contestants              |4.024217  |\n",
      "|1238  |26  |1     |Human Resources Analytics                |https://www.kaggle.com/code/jacksonchou/hr-analytics                             |3.468657  |\n",
      "|1088  |49  |5     |H-1B Visa Petitions 2011-2016            |https://www.kaggle.com/datasets/nsharan/h-1b-visa                                |3.9387314 |\n",
      "|1342  |53  |2     |Brazil's House of Deputies Reimbursements|https://www.kaggle.com/datasets/epattaro/brazils-house-of-deputies-reimbursements|2.0698912 |\n",
      "|1238  |55  |2     |Open Flood Risk by Postcode              |https://www.kaggle.com/datasets/getthedata/open-flood-risk-by-postcode           |3.4531643 |\n",
      "|1238  |62  |5     |Football Events                          |https://www.kaggle.com/datasets/secareanualin/football-events                    |4.575283  |\n",
      "|1025  |23  |2     |Homicide Reports; 1980-2014              |https://www.kaggle.com/datasets/murderaccountability/homicide-reports            |2.4619837 |\n",
      "|1483  |56  |5     |Govt. of India Census; 2001 District-Wise|https://www.kaggle.com/datasets/bazuka/census2001                                |2.9164972 |\n",
      "|1395  |66  |1     |Zika Virus Epidemic                      |https://www.kaggle.com/datasets/cdc/zika-virus-epidemic                          |2.0450313 |\n",
      "|1139  |29  |3     |Iris Species                             |https://www.kaggle.com/datasets/uciml/iris                                       |2.1355314 |\n",
      "+------+----+------+-----------------------------------------+---------------------------------------------------------------------------------+----------+\n",
      "only showing top 10 rows\n",
      "\n"
     ]
    }
   ],
   "source": [
    "predictions = model.transform(test)\n",
    "\n",
    "predictions= predictions.select(\"UserID\", 'Item', 'Rating', 'Title', 'URL', 'prediction')\n",
    "\n",
    "predictions.show(10, truncate=False)"
   ]
  },
  {
   "cell_type": "code",
   "execution_count": 95,
   "metadata": {},
   "outputs": [
    {
     "name": "stdout",
     "output_type": "stream",
     "text": [
      "Root-mean-square error = 1.2751985271337116\n"
     ]
    }
   ],
   "source": [
    "#evauating our model \n",
    "from pyspark.ml.evaluation import RegressionEvaluator\n",
    "\n",
    "\n",
    "evaluator = RegressionEvaluator(\n",
    "    metricName=\"rmse\",\n",
    "    labelCol=\"Rating\",\n",
    "    predictionCol=\"prediction\"\n",
    ")\n",
    "rmse = evaluator.evaluate(predictions)\n",
    "\n",
    "print(f\"Root-mean-square error = {rmse}\")\n"
   ]
  },
  {
   "cell_type": "code",
   "execution_count": 96,
   "metadata": {},
   "outputs": [
    {
     "name": "stdout",
     "output_type": "stream",
     "text": [
      "+------+------------------+------------------+------------------------------------+\n",
      "|UserID|avg_rating        |rating_stddev     |rating_list                         |\n",
      "+------+------------------+------------------+------------------------------------+\n",
      "|1099  |3.1666666666666665|2.041241452319315 |[5, 5, 5, 1, 2, 1]                  |\n",
      "|1125  |3.142857142857143 |2.0354009783964297|[4, 5, 5, 5, 1, 1, 1]               |\n",
      "|1215  |3.1666666666666665|2.041241452319315 |[5, 5, 5, 1, 2, 1]                  |\n",
      "|1216  |3.0               |2.1908902300206643|[5, 5, 5, 1, 1, 1]                  |\n",
      "|1223  |2.8333333333333335|2.041241452319315 |[5, 4, 5, 1, 1, 1]                  |\n",
      "|1239  |3.0               |2.088931871468374 |[5, 5, 5, 1, 1, 1, 5, 5, 5, 1, 1, 1]|\n",
      "|1275  |3.0               |2.1908902300206643|[5, 5, 5, 1, 1, 1]                  |\n",
      "|1298  |3.1666666666666665|2.041241452319315 |[5, 5, 5, 1, 2, 1]                  |\n",
      "|1321  |2.7142857142857144|2.138089935299395 |[5, 5, 5, 1, 1, 1, 1]               |\n",
      "|1352  |2.8333333333333335|2.041241452319315 |[5, 4, 5, 1, 1, 1]                  |\n",
      "|1368  |3.0               |2.138089935299395 |[5, 5, 5, 5, 1, 1, 1, 1]            |\n",
      "|1386  |2.8333333333333335|2.041241452319315 |[5, 4, 5, 1, 1, 1]                  |\n",
      "|1426  |2.857142857142857 |2.0354009783964297|[5, 5, 1, 5, 1, 1, 2]               |\n",
      "|1465  |3.142857142857143 |2.0354009783964297|[4, 5, 5, 5, 1, 1, 1]               |\n",
      "|1483  |2.5               |2.0701966780270626|[5, 5, 5, 1, 1, 1, 1, 1]            |\n",
      "|1486  |2.8333333333333335|2.041241452319315 |[5, 5, 4, 1, 1, 1]                  |\n",
      "+------+------------------+------------------+------------------------------------+\n",
      "\n",
      "+------+------------------+------------------+------------------------------------------------------------------------+\n",
      "|UserID|avg_rating        |rating_stddev     |rating_list                                                             |\n",
      "+------+------------------+------------------+------------------------------------------------------------------------+\n",
      "|1021  |4.666666666666667 |0.5163977794943223|[5, 4, 5, 5, 4, 5]                                                      |\n",
      "|1024  |4.5               |0.9636241116594314|[5, 5, 5, 5, 4, 5, 5, 4, 4, 5, 5, 5, 5, 5, 5, 5, 5, 5, 5, 3, 2, 2]      |\n",
      "|1042  |4.4               |0.9403246919632546|[5, 5, 5, 5, 5, 5, 5, 5, 5, 5, 5, 5, 5, 5, 3, 3, 3, 3, 3, 3]            |\n",
      "|1047  |3.4               |0.9660917830792959|[4, 5, 4, 4, 4, 2, 3, 2, 3, 3]                                          |\n",
      "|1067  |3.625             |0.5175491695067657|[4, 4, 4, 4, 4, 3, 3, 3]                                                |\n",
      "|1090  |3.9166666666666665|0.9962049198956219|[5, 5, 5, 3, 5, 4, 5, 3, 3, 3, 3, 3]                                    |\n",
      "|1098  |3.888888888888889 |0.9279607271383367|[4, 5, 5, 5, 4, 3, 3, 3, 3]                                             |\n",
      "|1112  |3.7               |0.8645047258706176|[5, 3, 3, 5, 4, 4, 3, 4, 3, 5, 3, 4, 5, 5, 3, 3, 3, 3, 3, 3]            |\n",
      "|1115  |2.7857142857142856|0.9749612559222292|[4, 4, 3, 2, 2, 2, 2, 2, 4, 4, 4, 2, 2, 2]                              |\n",
      "|1139  |3.6666666666666665|0.816496580927726 |[4, 4, 5, 3, 3, 3]                                                      |\n",
      "|1149  |3.6666666666666665|0.9847319278346619|[4, 4, 5, 3, 3, 3, 5, 4, 5, 3, 2, 3]                                    |\n",
      "|1193  |3.1666666666666665|0.983192080250175 |[4, 4, 4, 3, 2, 2]                                                      |\n",
      "|1251  |3.3333333333333335|0.9759000729485332|[4, 4, 4, 4, 2, 2, 4, 4, 4, 4, 4, 4, 2, 2, 2]                           |\n",
      "|1258  |3.9285714285714284|0.9972489631508747|[4, 5, 5, 4, 4, 4, 5, 5, 4, 4, 4, 2, 3, 2]                              |\n",
      "|1313  |2.8333333333333335|0.752772652709081 |[4, 3, 3, 2, 3, 2]                                                      |\n",
      "|1322  |4.3               |0.9486832980505138|[5, 4, 5, 5, 5, 5, 5, 3, 3, 3]                                          |\n",
      "|1330  |4.333333333333333 |0.9630868246861535|[5, 5, 5, 5, 5, 5, 5, 5, 3, 3, 3, 3, 5, 5, 5, 5, 5, 5, 5, 5, 3, 3, 3, 3]|\n",
      "|1346  |3.1666666666666665|0.937436866561092 |[4, 4, 4, 3, 2, 2, 4, 4, 4, 3, 2, 2]                                    |\n",
      "|1375  |3.9047619047619047|0.9952267030562387|[5, 4, 4, 5, 4, 4, 3, 5, 4, 5, 3, 5, 3, 3, 4, 4, 5, 5, 2, 2, 3]         |\n",
      "|1384  |3.1666666666666665|0.983192080250175 |[4, 4, 4, 2, 3, 2]                                                      |\n",
      "+------+------------------+------------------+------------------------------------------------------------------------+\n",
      "only showing top 20 rows\n",
      "\n"
     ]
    },
    {
     "data": {
      "image/png": "[encoded data removed]",
      "text/plain": [
       "<Figure size 800x600 with 1 Axes>"
      ]
     },
     "metadata": {},
     "output_type": "display_data"
    }
   ],
   "source": [
    "import matplotlib.pyplot as plt\n",
    "\n",
    "\n",
    "normal_users = getStats(user_item_ratings,'Rating', 0)\n",
    "outliers = getStats(user_item_ratings,'Rating', 2)\n",
    "\n",
    "normal_users = normal_users.filter(\"rating_stddev < 1\")\n",
    "\n",
    "outliers.show(truncate=False)\n",
    "normal_users.show(truncate=False)\n",
    "\n",
    "normal_users_df = normal_users.toPandas()\n",
    "outliers_df = outliers.toPandas()\n",
    "\n",
    "# Plot all points\n",
    "plt.figure(figsize=(8, 6))\n",
    "plt.scatter(normal_users_df['avg_rating'], normal_users_df['rating_stddev'], c='green', label='Normal Data', alpha=0.6)\n",
    "\n",
    "plt.scatter(outliers_df['avg_rating'], outliers_df['rating_stddev'], c='red', marker='x', s=100, label='Outliers')\n",
    "\n",
    "plt.title(\"Outlier Detection Using Standard Deviation (Spark MLlib)\", fontsize=10)\n",
    "plt.xlabel(\"Average Rating\", fontsize=8)\n",
    "plt.ylabel(\"Standard Deviation\", fontsize=8)\n",
    "\n",
    "# Show the legend\n",
    "plt.legend()\n",
    "plt.show() \n"
   ]
  },
  {
   "cell_type": "code",
   "execution_count": 97,
   "metadata": {},
   "outputs": [
    {
     "name": "stdout",
     "output_type": "stream",
     "text": [
      "+------+----+-----------------------------------------------+----------------------------------------------------------------------------------+----------------+\n",
      "|UserID|Item|Title                                          |URL                                                                               |Predicted_rating|\n",
      "+------+----+-----------------------------------------------+----------------------------------------------------------------------------------+----------------+\n",
      "|1352  |21  |Credit Card Fraud Detection                    |https://www.kaggle.com/datasets/mlg-ulb/creditcardfraud                           |4.6647577       |\n",
      "|1352  |47  |Human Activity Recognition with Smartphones    |https://www.kaggle.com/datasets/uciml/human-activity-recognition-with-smartphones |4.5855727       |\n",
      "|1352  |57  |Emotion; Aging; and Sentiment Over Time        |https://www.kaggle.com/datasets/cjroth/chronist                                   |4.32097         |\n",
      "|1352  |60  |World Happiness Report 2016                    |https://www.kaggle.com/unsdsn/world-happiness                                     |4.0220876       |\n",
      "|1352  |26  |Human Resources Analytics                      |https://www.kaggle.com/code/jacksonchou/hr-analytics                              |3.9791663       |\n",
      "|1352  |8   |Food/Dishes Order System                       |https://en.wikipedia.org/wiki/Online_food_ordering                                |3.9632704       |\n",
      "|1352  |42  |Breast Cancer Wisconsin (Diagnostic) Data Set  |https://www.kaggle.com/datasets/uciml/breast-cancer-wisconsin-data                |3.763875        |\n",
      "|1352  |3   |Flight ticket purchase system                  |https://en.wikipedia.org/wiki/Airline_reservations_system                         |3.738555        |\n",
      "|1352  |69  |Airlines Delay                                 |https://www.kaggle.com/datasets/giovamata/airlinedelaycauses                      |3.7280586       |\n",
      "|1352  |9   |Movie Rating and Reviews System                |https://en.wikipedia.org/wiki/IMDb                                                |3.7145414       |\n",
      "|1483  |32  |Climate Change   Earth Surface Temperature Data|https://www.kaggle.com/berkeleyearth/climate-change-earth-surface-temperature-data|4.530295        |\n",
      "|1483  |59  |2016 US Election                               |https://www.kaggle.com/datasets/benhamner/2016-us-election                        |4.5265093       |\n",
      "|1483  |49  |H-1B Visa Petitions 2011-2016                  |https://www.kaggle.com/datasets/nsharan/h-1b-visa                                 |3.5227633       |\n",
      "|1483  |7   |Course-Enrollment System                       |https://en.wikipedia.org/wiki/CourseWork_Course_Management_System                 |3.4097366       |\n",
      "|1483  |33  |Data Stories of US Airlines; 1987-2008         |https://www.kaggle.com/prajitdatta/data-stories-of-us-airlines                    |3.306422        |\n",
      "|1483  |3   |Flight ticket purchase system                  |https://en.wikipedia.org/wiki/Airline_reservations_system                         |3.203594        |\n",
      "|1483  |69  |Airlines Delay                                 |https://www.kaggle.com/datasets/giovamata/airlinedelaycauses                      |3.1076875       |\n",
      "|1483  |66  |Zika Virus Epidemic                            |https://www.kaggle.com/datasets/cdc/zika-virus-epidemic                           |3.1025414       |\n",
      "|1483  |16  |Online Video Streaming System                  |https://en.wikipedia.org/wiki/Online_video_platform                               |3.0665889       |\n",
      "|1483  |58  |Video Game Sales with Ratings                  |https://www.kaggle.com/datasets/rush4ratio/video-game-sales-with-ratings          |3.0462785       |\n",
      "+------+----+-----------------------------------------------+----------------------------------------------------------------------------------+----------------+\n",
      "only showing top 20 rows\n",
      "\n"
     ]
    }
   ],
   "source": [
    "#make recommendations for outliers\n",
    "from pyspark.sql.functions import explode, col\n",
    "\n",
    "\n",
    "outliers = outliers.select(als.getUserCol()).distinct().limit(5)\n",
    "\n",
    "# # Generate top 10 recommendations for outliers\n",
    "outlier_recommendations = model.recommendForUserSubset(outliers, numItems=10)\n",
    "outlier_recommendations = outlier_recommendations.select(col(\"UserID\"), explode(col(\"recommendations\").alias(\"recommendation\"))) \\\n",
    ".select(col(\"UserID\"),\n",
    "        col(\"col.Item\").alias(\"ItemID\"),\n",
    "        col(\"col.Rating\").alias(\"Predicted_rating\")\n",
    "       )\n",
    "\n",
    "outlier_recommendations = join_dataframes(outlier_recommendations, items, key=outlier_recommendations[\"ItemID\"] == items[\"Item\"], columns=[\"UserID\", \"Item\", \"Title\", \"URL\", 'Predicted_rating']) \n",
    "\n",
    "outlier_recommendations.show(truncate=False)\n"
   ]
  },
  {
   "cell_type": "code",
   "execution_count": null,
   "metadata": {},
   "outputs": [],
   "source": [
    "spark.stop()"
   ]
  }
 ],
 "metadata": {
  "kernelspec": {
   "display_name": "Python 3",
   "language": "python",
   "name": "python3"
  },
  "language_info": {
   "codemirror_mode": {
    "name": "ipython",
    "version": 3
   },
   "file_extension": ".py",
   "mimetype": "text/x-python",
   "name": "python",
   "nbconvert_exporter": "python",
   "pygments_lexer": "ipython3",
   "version": "3.9.6"
  }
 },
 "nbformat": 4,
 "nbformat_minor": 2
}
